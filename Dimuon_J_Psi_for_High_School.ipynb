{
  "nbformat": 4,
  "nbformat_minor": 0,
  "metadata": {
    "colab": {
      "name": "Dimuon J/Psi for High School.ipynb",
      "version": "0.3.2",
      "provenance": [],
      "include_colab_link": true
    },
    "kernelspec": {
      "name": "python3",
      "display_name": "Python 3"
    }
  },
  "cells": [
    {
      "cell_type": "markdown",
      "metadata": {
        "id": "view-in-github",
        "colab_type": "text"
      },
      "source": [
        "[View in Colaboratory](https://colab.research.google.com/github/ianwat2212/opendata-workgroup/blob/master/Dimuon_J_Psi_for_High_School.ipynb)"
      ]
    },
    {
      "metadata": {
        "id": "uZbmugoVuaUw",
        "colab_type": "text"
      },
      "cell_type": "markdown",
      "source": [
        "# Discovering Particles with CERN Open Data\n",
        "\n",
        "The Large Hadron Collider (LHC) at CERN, in Geneva, became world-famous for discovering the Higgs Boson in 2012. During this task, you will use real data from the LHC to learn something about how this was done and hopefully discover a particle of your own!\n",
        "\n",
        "<img src = \"https://home.cern/sites/home.web.cern.ch/files/image/update-for_the_public/2015/03/cms-event.jpg\" align = \"right\"  style = \"height:200px\" >\n",
        "\n",
        "\n",
        "## Particle Collisions\n",
        "\n",
        "The LHC is trying to understand the structure of matter by smashing beams of protons together at very close to the speed of light. The energy involved in these collisions produces a shower of particles of all kinds. The CMS and ATLAS detectors look for the particles produced in these collisions and measure their properties. The speed that they are able to do this at is incredible, the LHC produces 40 000 000 collisions every second!\n",
        "\n",
        "Some of the particles produced in the collisions (e.g. electrons and muons) can be directly measured by the detectors. Many of the more exotic and interesting particles (e.g. the famous Higgs boson), however, live for an incredibly short time and transform (decay) into other particles before the detectors can pick them up. So how can we tell they were there? \n",
        "\n",
        "## Hunting for the J/$\\Psi$\n",
        "\n",
        "One of these very short lived particles is called the J/$\\psi$. Made up of a charm and anticharm quark bound together, it's existence is predicted by the standard model of particle physics, but whenever one is created, it lasts an average of only $7,2 \\times 10^{-21}$ s before transforming into other particles. This is far too short for it to register in the detectors at the LHC. Fortunately, however, one of the ways the J/$\\psi$ can decay is into a muon-antimuon pair and CMS and ATLAS can detect these muons. The only problem with this, is that the detectors will see thousands of muons from each collision and only some of them will have been produced by a J/$\\psi$. We need to deal with this problem before we can claim to have discovered experimental evidence for the existence of the J/$\\psi$.\n",
        "\n",
        "## Invariant Mass\n",
        "\n",
        "There is a very clever trick that particle physicsts can use when analysing the data produced by the detectors. By combining the momentum and energy of a pair of detected particles, you can calculate quantitiy known as \"Invariant Mass\". If the two particles were, indeed, produced by the decay of another particle, this number will tell you the mass of that particle (in units of $GeV/c^2$). If our collisions are producing lots of J/$\\psi$ particles, then, there should be lots of pairs of muons with an invariant mass corresponding to the predicted mass of the J/$\\psi$.\n",
        "\n",
        "\n",
        "To understand how to put this into practice and claim the discovery of a particle, we need to analyse some data!\n"
      ]
    },
    {
      "metadata": {
        "id": "DK956lP52AYs",
        "colab_type": "text"
      },
      "cell_type": "markdown",
      "source": [
        "#Jupyter Notebooks\n",
        "\n",
        "The document you are looking at now is a Jupyter Notebook. This is a tool used by real professional scientists at CERN (and elsewhere) to analyse the data coming from the LHC. Jupyter notebooks consist of text like this and code cells, like the one below. In the code cells, you can type code in the python programming language. Select the cell and then press ctrl+enter to run the code. Start by running the code cell below. (This code is needed to load some software packages that you will need to use later)"
      ]
    },
    {
      "metadata": {
        "id": "4lfPs4PVuVF5",
        "colab_type": "code",
        "colab": {}
      },
      "cell_type": "code",
      "source": [
        "#lines of code writen with a hashtag like this are comments, and will be ignored when you run the code.\n",
        "\n",
        "import pandas as pd\n",
        "import numpy as np\n",
        "import matplotlib.pyplot as plt\n",
        "\n",
        "%matplotlib inline"
      ],
      "execution_count": 0,
      "outputs": []
    },
    {
      "metadata": {
        "id": "tx056Y8H2yd1",
        "colab_type": "text"
      },
      "cell_type": "markdown",
      "source": [
        "To begin our search for the J/$\\psi$ we will load some real-life data taken from the CMS experiment at CERN. CERN makes this data publicly available to use for projects like this! Run the code below to import a file containing data from pairs of muons detected by CMS.\n"
      ]
    },
    {
      "metadata": {
        "id": "2AT4AK2xwY1z",
        "colab_type": "code",
        "colab": {}
      },
      "cell_type": "code",
      "source": [
        "muons = pd.read_csv('http://opendata.cern.ch/record/545/files/Dimuon_DoubleMu.csv')"
      ],
      "execution_count": 0,
      "outputs": []
    }
  ]
}